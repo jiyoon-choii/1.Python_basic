{
 "cells": [
  {
   "cell_type": "markdown",
   "metadata": {},
   "source": [
    "### 흐름제어\n",
    "\n",
    "- break : if문과 같이 사요되거나 단독 사용가능\n",
    "    - 가장 가까운 반복문(while,for)을 빠져나간다\n",
    "    - while or for 하고만 반응한다.\n",
    "- continue : if문과 같이 사용되거나, 단독 사용가능\n",
    "    - 가장 가까운 반복문으로 점프\n",
    "    - continue 이하 코드는 생략하고 바로 조건식으로 점프\n",
    "    - while or for 하고만 반응한다 \n",
    "\n",
    "- 코드의 흐름을 변경할려면(분기, 반복등)\n",
    "- 조건을 체크 -> 참, 거짓에 의해 (판정) 흐름을 변경\n",
    "- 판정 => 결론은 블린(True/False)\n",
    "- 판정이 작성된 코드을 조건식\n",
    "- 조건문, 반복문 제어문 식\n",
    "    - 조건식 결론 => 참이나 거짓이냐?\n",
    "        - False 상황: 0, 0.0, [], {}, (), None(값이없다), 기타조건문의결과(비교,등등)\n",
    "    - 조건식을 가지고 상황따라 움직이는 방식:조건문\n",
    "        - if\n",
    "    - 반복문 : 반복작업\n",
    "        - for, while"
   ]
  },
  {
   "cell_type": "markdown",
   "metadata": {},
   "source": [
    "#### 조건식 결론 첫번째 케이스"
   ]
  },
  {
   "cell_type": "code",
   "execution_count": 7,
   "metadata": {},
   "outputs": [
    {
     "data": {
      "text/plain": [
       "(True, False, True, False, False, True)"
      ]
     },
     "execution_count": 7,
     "metadata": {},
     "output_type": "execute_result"
    }
   ],
   "source": [
    "1600 > 1500, 1600 < 1500, 1600 >= 1500, 1600 <= 1500, 1600 == 1500, 1600 != 1500"
   ]
  },
  {
   "cell_type": "markdown",
   "metadata": {},
   "source": [
    "### if문"
   ]
  },
  {
   "cell_type": "code",
   "execution_count": null,
   "metadata": {},
   "outputs": [],
   "source": [
    "# 요구사항에서 조건 상황이 몇개인지 체크하여 구현\n",
    "# if\n",
    "# if ~ else\n",
    "# if ~ elif\n",
    "# if ~ elif   ~ elif...\n",
    "# if ~ elif.. ~ else"
   ]
  },
  {
   "cell_type": "code",
   "execution_count": null,
   "metadata": {},
   "outputs": [],
   "source": [
    "# 커피값을 입력받아서 1500원이상이면 거스럼돈을 줘라\n",
    "# 내용은 \"거스름돈(받은금액-1500)은 XX원 입니다.\""
   ]
  },
  {
   "cell_type": "code",
   "execution_count": null,
   "metadata": {},
   "outputs": [],
   "source": [
    "# 1. 커피값을 입력받아서 \n",
    "# (정수값 수치로 잘 넣는다고 전제)\n",
    "# 값의 유효성을 체크하지 않겟다\n",
    "coffee_price =int(input('커피값을 주세요'))\n",
    "coffee_price, type(coffee_price)"
   ]
  },
  {
   "cell_type": "code",
   "execution_count": null,
   "metadata": {},
   "outputs": [],
   "source": [
    "coffee_price > 1500"
   ]
  },
  {
   "cell_type": "code",
   "execution_count": null,
   "metadata": {},
   "outputs": [],
   "source": [
    "# 2. 1500원이상이면 <- 조건 1개\n",
    "# 문법 => if 조건식:\n",
    "# >, <, >=, <=, ==, !=, not(부정, False를 체크할때, 잡을때, 부정적상황을 체크할때)\n",
    "# and,  or\n",
    "# : => 코드블럭이 시작된다\n",
    "#      코드블럭 => 들려쓰기후 진행(세로줄이 변경됨)\n",
    "#      그 조건이 만족된때만 수행하는 코드\n",
    "if coffee_price > 1500:\n",
    "    # 아무것도 하지 말고 일단 패스(구조잡을때,실제않할때)\n",
    "    pass "
   ]
  },
  {
   "cell_type": "code",
   "execution_count": null,
   "metadata": {},
   "outputs": [],
   "source": [
    "# 3. 거스럼돈은 100원 입니다.\n",
    "if coffee_price > 1500:\n",
    "    tmp='거스럼돈은 %s원 입니다.' % (coffee_price-1500)\n",
    "    print( tmp )\n",
    "    pass "
   ]
  },
  {
   "cell_type": "markdown",
   "metadata": {},
   "source": [
    "#### 통합코드"
   ]
  },
  {
   "cell_type": "code",
   "execution_count": null,
   "metadata": {},
   "outputs": [],
   "source": [
    "#while True:\n",
    "coffee_price =int(input('커피값을 주세요'))\n",
    "if coffee_price > 1500:\n",
    "    tmp='거스럼돈은 %s원 입니다.' % (coffee_price-1500)\n",
    "    print( tmp )\n",
    "    pass "
   ]
  },
  {
   "cell_type": "code",
   "execution_count": 22,
   "metadata": {},
   "outputs": [
    {
     "name": "stdout",
     "output_type": "stream",
     "text": [
      "커피값을 주세요1500\n",
      "거스럼돈은 0원 입니다.\n"
     ]
    }
   ],
   "source": [
    "# [실습]\n",
    "coffee_price =int(input('커피값을 주세요'))\n",
    "\n",
    "# 1. 조건을 이해하고, 그 수대로 틀을 구성\n",
    "# 2. 조건을 일단 다 배치하고\n",
    "# 3. 인사이트(도메인, 해당직무)를 이해하고 가장 빈도가 높은순으로 조건을 재배치(최적화의 느낌)\n",
    "# 4. 제시되지 않은 조건은 가정한다\n",
    "if coffee_price > 1500:\n",
    "    print( '거스럼돈은 %s원 입니다.' % (coffee_price-1500) )\n",
    "elif coffee_price == 1500:\n",
    "    print( '거스럼돈은 %s원 입니다.' % (coffee_price-1500) )\n",
    "else:\n",
    "    print( '부족한 금액이 %s원 입니다.' % (1500 - coffee_price) )"
   ]
  },
  {
   "cell_type": "code",
   "execution_count": null,
   "metadata": {},
   "outputs": [],
   "source": [
    "'''\n",
    "# 들여쓰기 : 코드블럭\n",
    "# 코드블럭내에 존재하는 코드=> 수행문 => statements\n",
    "\n",
    "if 조건식:\n",
    "    statements\n",
    "elif 조건식:\n",
    "    statements\n",
    "else:\n",
    "    statements\n",
    "'''"
   ]
  },
  {
   "cell_type": "markdown",
   "metadata": {},
   "source": [
    "#### 조건식 결론 두번째 케이스"
   ]
  },
  {
   "cell_type": "code",
   "execution_count": 8,
   "metadata": {},
   "outputs": [
    {
     "name": "stdout",
     "output_type": "stream",
     "text": [
      "밥먹어라\n"
     ]
    }
   ],
   "source": [
    "isRunning = False\n",
    "\n",
    "# 부정상황을 체크할때 사용\n",
    "# 달리지 않는다면 밥먹어라라는 문구를 출력하시오\n",
    "if not isRunning:\n",
    "    print( '밥먹어라' )"
   ]
  },
  {
   "cell_type": "markdown",
   "metadata": {},
   "source": [
    "#### 조건식 결론 세번째 케이스"
   ]
  },
  {
   "cell_type": "code",
   "execution_count": 19,
   "metadata": {},
   "outputs": [
    {
     "data": {
      "text/plain": [
       "(True, False, False, False)"
      ]
     },
     "execution_count": 19,
     "metadata": {},
     "output_type": "execute_result"
    }
   ],
   "source": [
    "# 비트 연산\n",
    "\n",
    "# 둘다 참이여만 참이다 => 두 조건을 모두 만족해야 한다\n",
    "# 하나라도 거짓이면 거짓이다 (타언어 A && B)\n",
    "True and True, True and False, False and False, False and True"
   ]
  },
  {
   "cell_type": "code",
   "execution_count": 20,
   "metadata": {},
   "outputs": [
    {
     "data": {
      "text/plain": [
       "(True, True, True, False)"
      ]
     },
     "execution_count": 20,
     "metadata": {},
     "output_type": "execute_result"
    }
   ],
   "source": [
    "# 한개만 참이면 참이다 (타언어 A || B)\n",
    "# 둘다 거짓이면 거짓이다\n",
    "True or True, True or False, False or True, False or False"
   ]
  },
  {
   "cell_type": "markdown",
   "metadata": {},
   "source": [
    "#### 삼항 연산자 (표현이 간결해진다)\n",
    "\n",
    "- 파이썬은 없다\n",
    "- 타언어 => 변수 = 조건식 ? 참일대 값 : 거짓일때 값;\n",
    "- 상황은 2개"
   ]
  },
  {
   "cell_type": "code",
   "execution_count": 15,
   "metadata": {},
   "outputs": [
    {
     "data": {
      "text/plain": [
       "'거스름돈 100원 입니다'"
      ]
     },
     "execution_count": 15,
     "metadata": {},
     "output_type": "execute_result"
    }
   ],
   "source": [
    "a = 1500\n",
    "b = 1600\n",
    "msg = b >= a and '거스름돈 {cost}원 입니다'.format(cost=(b-a)) or '%s원 부족'%(a-b) \n",
    "msg"
   ]
  },
  {
   "cell_type": "code",
   "execution_count": 18,
   "metadata": {},
   "outputs": [
    {
     "data": {
      "text/plain": [
       "'200원 부족'"
      ]
     },
     "execution_count": 18,
     "metadata": {},
     "output_type": "execute_result"
    }
   ],
   "source": [
    "a = 1500\n",
    "b = 1300\n",
    "msg = '거스름돈 {cost}원 입니다'.format(cost=(b-a)) if b >= a else '%s원 부족'%(a-b) \n",
    "msg"
   ]
  },
  {
   "cell_type": "markdown",
   "metadata": {},
   "source": [
    "### 반복문\n",
    "\n",
    "- 특정한 작업을 반복해서 수행한다 => 구구단\n",
    "- for   : 지정된 횟수를 반복한다. 5번 반복, 10번 반복 \n",
    "- while : 0~무한대, 반복을 않할수도, 무한대로(무한루프) 가능\n",
    "    - 언제 끝날지 모르겟다"
   ]
  },
  {
   "cell_type": "code",
   "execution_count": 5,
   "metadata": {},
   "outputs": [
    {
     "data": {
      "text/plain": [
       "[1, 2, 3, 4, 5]"
      ]
     },
     "execution_count": 5,
     "metadata": {},
     "output_type": "execute_result"
    }
   ],
   "source": [
    "# while\n",
    "# 재료 : 데이터 덩어리 <- 연속 데이터 타입\n",
    "a = [1,2,3,4,5]\n",
    "a"
   ]
  },
  {
   "cell_type": "code",
   "execution_count": 4,
   "metadata": {},
   "outputs": [
    {
     "name": "stdout",
     "output_type": "stream",
     "text": [
      "위에서 조건체크하고 참이면 이리로 내려온다\n",
      "[0]현재 맴버수  5\n",
      "5\n",
      "[1]현재 맴버수  4\n",
      "--------------------\n",
      "위에서 조건체크하고 참이면 이리로 내려온다\n",
      "[0]현재 맴버수  4\n",
      "4\n",
      "[1]현재 맴버수  3\n",
      "--------------------\n",
      "위에서 조건체크하고 참이면 이리로 내려온다\n",
      "[0]현재 맴버수  3\n",
      "3\n",
      "[1]현재 맴버수  2\n",
      "--------------------\n",
      "위에서 조건체크하고 참이면 이리로 내려온다\n",
      "[0]현재 맴버수  2\n",
      "2\n",
      "[1]현재 맴버수  1\n",
      "--------------------\n",
      "위에서 조건체크하고 참이면 이리로 내려온다\n",
      "[0]현재 맴버수  1\n",
      "1\n",
      "[1]현재 맴버수  0\n",
      "--------------------\n"
     ]
    }
   ],
   "source": [
    "\n",
    "\n",
    "'''\n",
    "while 조건:\n",
    "    # statements (수행문) ...\n",
    "'''\n",
    "\n",
    "# a의 맴버가 없을때까지 반복해서, \n",
    "# a의 맴버수가 0보다 크다면, 반복작업을 수행해라\n",
    "while len(a) > 0:\n",
    "    print('위에서 조건체크하고 참이면 이리로 내려온다')\n",
    "    print('[0]현재 맴버수 ', len(a))\n",
    "    print( a.pop() )\n",
    "    print('[1]현재 맴버수 ', len(a))\n",
    "    print('-'*20)\n",
    "    pass"
   ]
  },
  {
   "cell_type": "code",
   "execution_count": 6,
   "metadata": {},
   "outputs": [
    {
     "name": "stdout",
     "output_type": "stream",
     "text": [
      "위에서 조건체크하고 참이면 이리로 내려온다\n",
      "[0]현재 맴버수  5\n",
      "5\n",
      "[1]현재 맴버수  4\n",
      "--------------------\n",
      "위에서 조건체크하고 참이면 이리로 내려온다\n",
      "[0]현재 맴버수  4\n",
      "4\n",
      "[1]현재 맴버수  3\n",
      "--------------------\n",
      "위에서 조건체크하고 참이면 이리로 내려온다\n",
      "[0]현재 맴버수  3\n",
      "3\n",
      "[1]현재 맴버수  2\n",
      "--------------------\n",
      "위에서 조건체크하고 참이면 이리로 내려온다\n",
      "[0]현재 맴버수  2\n",
      "2\n",
      "[1]현재 맴버수  1\n",
      "--------------------\n",
      "위에서 조건체크하고 참이면 이리로 내려온다\n",
      "[0]현재 맴버수  1\n",
      "1\n",
      "[1]현재 맴버수  0\n",
      "--------------------\n"
     ]
    }
   ],
   "source": [
    "# 타입값 자체를 조건식에 사용하면 0,0.0,[],{},()상황이면 다 False\n",
    "while a:\n",
    "    print('위에서 조건체크하고 참이면 이리로 내려온다')\n",
    "    print('[0]현재 맴버수 ', len(a))\n",
    "    print( a.pop() )\n",
    "    print('[1]현재 맴버수 ', len(a))\n",
    "    print('-'*20)\n",
    "    pass"
   ]
  },
  {
   "cell_type": "code",
   "execution_count": 8,
   "metadata": {},
   "outputs": [
    {
     "name": "stdout",
     "output_type": "stream",
     "text": [
      "5\n",
      "4\n",
      "3\n",
      "2\n",
      "1\n"
     ]
    }
   ],
   "source": [
    "# 수행문이 한줄이라면, 옆으로 쓸수 있다\n",
    "a = [1,2,3,4,5]\n",
    "while a:print( a.pop() )"
   ]
  },
  {
   "cell_type": "code",
   "execution_count": 9,
   "metadata": {},
   "outputs": [
    {
     "name": "stdout",
     "output_type": "stream",
     "text": [
      "5\n",
      "4\n",
      "3\n",
      "2\n",
      "1\n",
      "중간에 중단 없이 정상적으로 잘 반복종료했다\n"
     ]
    }
   ],
   "source": [
    "# 반복문이 정상적으로 모두 수행하고 종료됐음을 알고 싶다면?\n",
    "# 여기서는 5번 모두 반복했다 이것을 알고 싶다면\n",
    "a = [1,2,3,4,5]\n",
    "while a:\n",
    "    print( a.pop() )\n",
    "else: # 정상적으로 모두 반복했다라는 것을 감지\n",
    "    print( '중간에 중단 없이 정상적으로 잘 반복종료했다' )"
   ]
  },
  {
   "cell_type": "markdown",
   "metadata": {},
   "source": [
    "#### 흐름제어 \n",
    "\n",
    "- break : if문과 같이 사용되거나, 단독 사용가능\n",
    "    - 가장 가까운 반복문(while,for)을 빠져나간다\n",
    "- continue : if문과 같이 사용되거나, 단독 사용가능\n",
    "    - continue 이하 코드는 생략하고 바로 조건식으로 점프"
   ]
  },
  {
   "cell_type": "code",
   "execution_count": 10,
   "metadata": {},
   "outputs": [
    {
     "name": "stdout",
     "output_type": "stream",
     "text": [
      "5\n",
      "5\n",
      "4\n",
      "3\n",
      "3\n",
      "2\n",
      "1\n",
      "1\n",
      "중간에 중단 없이 정상적으로 잘 반복종료했다\n"
     ]
    }
   ],
   "source": [
    "a = [1,2,3,4,5]\n",
    "while a:\n",
    "    tmp = a.pop()\n",
    "    print( tmp )\n",
    "    if tmp % 2 == 0:# 짝수면\n",
    "        continue\n",
    "    print( tmp )\n",
    "    if len(a) == 1:\n",
    "        break\n",
    "else:\n",
    "    print( '중간에 중단 없이 정상적으로 잘 반복종료했다' )"
   ]
  },
  {
   "cell_type": "code",
   "execution_count": 11,
   "metadata": {},
   "outputs": [
    {
     "name": "stdout",
     "output_type": "stream",
     "text": [
      "5\n",
      "4\n",
      "4\n",
      "3\n",
      "2\n",
      "2\n"
     ]
    }
   ],
   "source": [
    "a = [1,2,3,4,5]\n",
    "while a:\n",
    "    tmp = a.pop()\n",
    "    print( tmp )\n",
    "    if tmp % 2 == 1:# 홀수면\n",
    "        continue\n",
    "    print( tmp )\n",
    "    if len(a) == 1:\n",
    "        break\n",
    "else:\n",
    "    print( '중간에 중단 없이 정상적으로 잘 반복종료했다' )"
   ]
  },
  {
   "cell_type": "code",
   "execution_count": null,
   "metadata": {},
   "outputs": [],
   "source": [
    "2"
   ]
  },
  {
   "cell_type": "markdown",
   "metadata": {},
   "source": [
    "### for "
   ]
  },
  {
   "cell_type": "code",
   "execution_count": null,
   "metadata": {},
   "outputs": [],
   "source": [
    "'''\n",
    "# for ~ each 방식 or for ~ in 방식\n",
    "for 데이터 한개(멤버) in 연속데이터타입(시퀀스타입) : \n",
    "    수행문\n",
    "'''"
   ]
  },
  {
   "cell_type": "code",
   "execution_count": 1,
   "metadata": {},
   "outputs": [
    {
     "name": "stdout",
     "output_type": "stream",
     "text": [
      "1\n",
      "2\n",
      "3\n",
      "4\n",
      "5\n"
     ]
    }
   ],
   "source": [
    "a = [1,2,3,4,5]\n",
    "for n in a :\n",
    "    print( n )"
   ]
  },
  {
   "cell_type": "code",
   "execution_count": 3,
   "metadata": {},
   "outputs": [
    {
     "name": "stdout",
     "output_type": "stream",
     "text": [
      "1 2\n",
      "3 4\n",
      "5 6\n"
     ]
    }
   ],
   "source": [
    "# 데이터의 형태에 따라 받아주는 변수의 개수, 형태는 조정 \n",
    "a = [(1,2),(3,4),(5,6)]\n",
    "for n,m in a :\n",
    "    print( n, m )"
   ]
  },
  {
   "cell_type": "code",
   "execution_count": 4,
   "metadata": {},
   "outputs": [
    {
     "data": {
      "text/plain": [
       "[{'code': 'USD', 'price': 1180}, {'code': 'EUR', 'price': 1430}]"
      ]
     },
     "execution_count": 4,
     "metadata": {},
     "output_type": "execute_result"
    }
   ],
   "source": [
    "a = [\n",
    "    {\n",
    "        'code':'USD',\n",
    "        'price':1180\n",
    "    },\n",
    "    {\n",
    "        'code':'EUR',\n",
    "        'price':1430\n",
    "    },    \n",
    "]\n",
    "a"
   ]
  },
  {
   "cell_type": "code",
   "execution_count": 6,
   "metadata": {},
   "outputs": [
    {
     "ename": "SyntaxError",
     "evalue": "invalid syntax (<ipython-input-6-fc6c81b23e30>, line 3)",
     "output_type": "error",
     "traceback": [
      "\u001b[1;36m  File \u001b[1;32m\"<ipython-input-6-fc6c81b23e30>\"\u001b[1;36m, line \u001b[1;32m3\u001b[0m\n\u001b[1;33m    for key in a[0]\u001b[0m\n\u001b[1;37m                   ^\u001b[0m\n\u001b[1;31mSyntaxError\u001b[0m\u001b[1;31m:\u001b[0m invalid syntax\n"
     ]
    }
   ],
   "source": [
    "# 딕셔너리를 for로 돌리면 키가 나온다\n",
    "# 좀더 안정적 딕셔너리.get(키)\n",
    "for key in a[0]\n",
    "    print ( key, '값출력->', a[0][key], a[0], get(key) )"
   ]
  },
  {
   "cell_type": "code",
   "execution_count": null,
   "metadata": {},
   "outputs": [],
   "source": [
    "# 딕셔너리.item() -> (키, 값), ...\n",
    "for key, value in a[0].items()\n",
    "    print( key, value )"
   ]
  },
  {
   "cell_type": "code",
   "execution_count": 8,
   "metadata": {},
   "outputs": [
    {
     "name": "stdout",
     "output_type": "stream",
     "text": [
      "0\n",
      "1\n"
     ]
    }
   ],
   "source": [
    "# 딕셔너리에서 인덱스도 필요하다\n",
    "# 여러 개의 연속데이터 타입을(사이즈가 동일) 접근해서 처리한다면\n",
    "# 10개짜리 리스트와, 딕셔너리를 같은 for문에서 같은 순서로 처리한다면\n",
    "# enumerate() => 인덱스 부여\n",
    "for n, value in enumerate(a[0]):\n",
    "    print( n )"
   ]
  },
  {
   "cell_type": "code",
   "execution_count": 9,
   "metadata": {},
   "outputs": [
    {
     "name": "stdout",
     "output_type": "stream",
     "text": [
      "1\n",
      "2\n",
      "3\n",
      "4\n"
     ]
    }
   ],
   "source": [
    "# 연속수 -> range() -> numpy 에서는 arrange()\n",
    "# range( 시작인덱스, 끝인덱스, step)\n",
    "# range( 시작인덱스, 끝인덱스 )\n",
    "# range( 끝인덱스 )\n",
    "# 어떤 라이브러리든지 range라는 단어가 붙어있으면\n",
    "# 연속적인 수치, 날짜 등을 만드는 기능을 가지고 있다\n",
    "# 시작인덱스보다 <= x < 끝인덱스\n",
    "for n in range(1, 5) :\n",
    "    print(n)"
   ]
  },
  {
   "cell_type": "code",
   "execution_count": 10,
   "metadata": {},
   "outputs": [
    {
     "name": "stdout",
     "output_type": "stream",
     "text": [
      "0\n",
      "1\n",
      "2\n",
      "3\n",
      "4\n"
     ]
    }
   ],
   "source": [
    "# () <= x < 끝인덱스\n",
    "for n in range(5) :\n",
    "    print(n)"
   ]
  },
  {
   "cell_type": "code",
   "execution_count": 15,
   "metadata": {},
   "outputs": [
    {
     "name": "stdout",
     "output_type": "stream",
     "text": [
      "0 0 bit연산-> 0 0 0\n",
      "0 1 bit연산-> 0 1 1\n",
      "1 0 bit연산-> 0 1 1\n",
      "1 1 bit연산-> 1 1 0\n"
     ]
    }
   ],
   "source": [
    "for n in range(2) :\n",
    "    for m in range(2) : \n",
    "        # 참 : 1, 거짓 : 0\n",
    "        # ^ : xor\n",
    "        print( n, m, 'bit연산->', n and m, n or m, n ^ m )"
   ]
  },
  {
   "cell_type": "code",
   "execution_count": null,
   "metadata": {},
   "outputs": [],
   "source": [
    "# [실습]\n",
    "# 3-7단까지 구구단을 출력하시오\n",
    "# 출력 형식은 3 x 1 = 3 .... 7 x 9 = 63, 한줄에 하나씩 출력"
   ]
  },
  {
   "cell_type": "code",
   "execution_count": 30,
   "metadata": {},
   "outputs": [
    {
     "ename": "IndentationError",
     "evalue": "expected an indented block (<ipython-input-30-52654df6a8b5>, line 4)",
     "output_type": "error",
     "traceback": [
      "\u001b[1;36m  File \u001b[1;32m\"<ipython-input-30-52654df6a8b5>\"\u001b[1;36m, line \u001b[1;32m4\u001b[0m\n\u001b[1;33m    print ( '%s x %s = %2s' % (i, j, i*j) )\u001b[0m\n\u001b[1;37m        ^\u001b[0m\n\u001b[1;31mIndentationError\u001b[0m\u001b[1;31m:\u001b[0m expected an indented block\n"
     ]
    }
   ],
   "source": [
    "for i in range( 3, 8 ) :\n",
    "    #print ( i )\n",
    "    for j in range( 1, 10 ) :\n",
    "    print ( '%s x %s = %2s' % (i, j, i*j) )"
   ]
  },
  {
   "cell_type": "markdown",
   "metadata": {},
   "source": [
    "#### XXX 내포\n",
    "\n",
    "- 결과를 중심으로 코드를 펼친다는 관점에서 \n",
    "- 연속데이터 타입 안에서 조건문, 반복문 등을 활용하여 간결하게 데이터를 구성할 수 있다\n",
    "- 리스트 내포, 딕셔너리 내포 등등.."
   ]
  },
  {
   "cell_type": "code",
   "execution_count": null,
   "metadata": {},
   "outputs": [],
   "source": [
    "for i in range( 3, 8 ) :\n",
    "    #print ( i )\n",
    "    for j in range( 1, 10 ) :\n",
    "    print ( '%s x %s = %2s' % (i, j, i*j) )"
   ]
  },
  {
   "cell_type": "code",
   "execution_count": 31,
   "metadata": {},
   "outputs": [
    {
     "ename": "SyntaxError",
     "evalue": "invalid syntax (<ipython-input-31-5026937b43a8>, line 2)",
     "output_type": "error",
     "traceback": [
      "\u001b[1;36m  File \u001b[1;32m\"<ipython-input-31-5026937b43a8>\"\u001b[1;36m, line \u001b[1;32m2\u001b[0m\n\u001b[1;33m    [ for'%s x %s = %2s' % (i, j, i*j) for j in range( 1, 10 ) ]\u001b[0m\n\u001b[1;37m        ^\u001b[0m\n\u001b[1;31mSyntaxError\u001b[0m\u001b[1;31m:\u001b[0m invalid syntax\n"
     ]
    }
   ],
   "source": [
    "# 3~7단까지 '3 X 1 = 3'식으로 계산하여 리스트로 담으시오 \n",
    "[ for'%s x %s = %2s' % (i, j, i*j) for j in range( 1, 10 ) ]"
   ]
  },
  {
   "cell_type": "code",
   "execution_count": null,
   "metadata": {},
   "outputs": [],
   "source": [
    "# [요구사항 분석, 특징 체크]\n",
    "# 출력 결과의 앞자리는 3~7까지 연속적인데, 9번씩 반복하여 출력한다\n",
    "# 출력 결과 두번째 자리는 1~9까지 연속적인데, 1회씩 출현한다\n",
    "# 단, 앞자리가 변경되면 다시 1~9까지 반복적으로 나타난다\n",
    "\n",
    "n = [3,4,5,6,7]\n",
    "3 x 1 = 3\n",
    "\n",
    "4 x 1 = 4\n",
    "\n",
    "5 x 1 = 5\n",
    "\n",
    "6 x 1 = 6"
   ]
  },
  {
   "cell_type": "code",
   "execution_count": null,
   "metadata": {},
   "outputs": [],
   "source": [
    "[ for'%s x %s = %2s' % (i, j, i*j) for j in range( 1, 10 ) ]"
   ]
  },
  {
   "cell_type": "code",
   "execution_count": 34,
   "metadata": {},
   "outputs": [
    {
     "name": "stdout",
     "output_type": "stream",
     "text": [
      "[3, 6, 9, 12, 15, 18, 21, 24, 27, 4, 8, 12, 16, 20, 24, 28, 32, 36, 6, 12, 18, 24, 30, 36, 42, 48, 54, 7, 14, 21, 28, 35, 42, 49, 56, 63]\n"
     ]
    }
   ],
   "source": [
    "results = []\n",
    "for i in range( 3, 8 ) :\n",
    "    # 5를 잡았다 => 다음 순번(6으로) 넘겨라 => 조건 체크로 점프 \n",
    "    if i == 5 :\n",
    "        continue\n",
    "    for j in range( 1, 10 ) :\n",
    "        results.append( i*j )\n",
    "print( results )"
   ]
  },
  {
   "cell_type": "code",
   "execution_count": null,
   "metadata": {},
   "outputs": [],
   "source": [
    "results = []\n",
    "for i in range( 3, 8 ) :\n",
    "    # 5가 아닌 것을 잡았다 => \n",
    "    if i != 5 :\n",
    "    for j in range( 1, 10 ) :\n",
    "        results.append( i*j )\n",
    "print( results, len(results) )"
   ]
  },
  {
   "cell_type": "code",
   "execution_count": null,
   "metadata": {},
   "outputs": [],
   "source": [
    "[ i*j for i in range(3, 8) if i != 5 for j in range ]"
   ]
  }
 ],
 "metadata": {
  "kernelspec": {
   "display_name": "Python 3",
   "language": "python",
   "name": "python3"
  },
  "language_info": {
   "codemirror_mode": {
    "name": "ipython",
    "version": 3
   },
   "file_extension": ".py",
   "mimetype": "text/x-python",
   "name": "python",
   "nbconvert_exporter": "python",
   "pygments_lexer": "ipython3",
   "version": "3.7.4"
  }
 },
 "nbformat": 4,
 "nbformat_minor": 2
}
