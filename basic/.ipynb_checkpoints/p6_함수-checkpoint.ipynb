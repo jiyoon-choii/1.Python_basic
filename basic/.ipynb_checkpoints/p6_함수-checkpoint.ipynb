{
 "cells": [
  {
   "cell_type": "markdown",
   "metadata": {},
   "source": [
    "## 함수\n",
    "\n",
    "- 함수:\n",
    "    - 종류\n",
    "        - 커스텀함수(사용자정의함수)\n",
    "            - 개발자의 필요에 의해 정의된 함수 \n",
    "        - 내장함수\n",
    "            - 별도의 추가 코드 없이 바로 사용가능한 함수 \n",
    "            - type(), len(), list(), str(), ...\n",
    "            - 파이썬이 설치되어 있으면 바로 사용 가능(전역적)\n",
    "        - 외장함수 ( 라이브러리 상에 존재하는 함수 )\n",
    "            - 별도의 모듈을 코드에 추가하고 나서 모듈을 통해 사용 가능한 함수 (소속.함수명())\n",
    "            - import time\n",
    "            - time.sleep()\n",
    "        - 람다함수\n",
    "            - 가장 빠른 함수\n",
    "            - 수행문이 1개이다 \n",
    "            - 특정 함수의 인자로 사용. 휘발성, 코드가 지나가면 사라짐\n",
    "            - 연속 데이터 타입들의 멤버들을 하나씩 건들면서 뭔가 작업을 하고 대체, 걸러낼 때 주로 사용 \n",
    "            - 대체 : 파이썬 내장함수 map(), DataFrame의 apply()\n",
    "            - 필터링 : 파이썬 내장함수 filter()\n",
    "            - lamda x : x+1 \n",
    "        - 클로저\n",
    "            - 함수 안에 함수 있다 \n",
    "            \n",
    "    - 프로그램\n",
    "        - 함수 지향적 프로그램\n",
    "    - 특징   \n",
    "        - 함수 본질. 장점\n",
    "            - 재활용성을 높여서 코드를 다이어트 하고 품질을 높인다 \n",
    "            - 생산성이 향상 => 빠르게 제작 => 기업은 수익 증가 확률\n",
    "            - 다음 프로젝트 때에는 기존 구축된 함수 모듈이 존재하므로 그만큼 더 생산성이 향상\n",
    "            - 반복된 코드를 함수로 만들어서 사용성을 높인다, 복잡성을 줄인다. 유지보수를 용이하게 구현한다\n",
    "            - 입력 대비 출력이라는 기본 기능을 수행\n",
    "        - 스타일\n",
    "            - 코드 중에 반복되는 구간이 있으면 -> 함수\n",
    "            - 로직을 구현 => 일반화 연습 => 함수화 \n",
    "            - 한번만 나오지만, 코드가 복잡해서 함수화 하는 경우도 있다 => 작업 단위를 구분하기 위해 \n",
    "        - 용어 : C계열 : 함수, Java계열 : 메쏘드"
   ]
  },
  {
   "cell_type": "markdown",
   "metadata": {},
   "source": [
    "### 1. 사용자 정의 함수\n",
    "\n",
    "#### 1-1. 기본형\n",
    "'''\n",
    "- 기본 형태 \n",
    "- [] 생략가능하다는 표현   \n",
    "def 함수명 ( [인자(매개변수)명, ...] ) :  \n",
    "    statements ...   \n",
    "    [ return [값......] ]  \n",
    "    \n",
    "    "
   ]
  },
  {
   "cell_type": "code",
   "execution_count": 8,
   "metadata": {},
   "outputs": [],
   "source": [
    "# 더하기 함수\n",
    "# 함수명 : sum\n",
    "# 입력 : x, y\n",
    "# 출력 : 입력값을 더한 결과 \n",
    "\n",
    "# 함수의 인자는 타입을 기술하지 않는다 -> 타입추론\n",
    "def sum ( x, y ) :\n",
    "    return x + y "
   ]
  },
  {
   "cell_type": "code",
   "execution_count": 9,
   "metadata": {},
   "outputs": [
    {
     "data": {
      "text/plain": [
       "3"
      ]
     },
     "execution_count": 9,
     "metadata": {},
     "output_type": "execute_result"
    }
   ],
   "source": [
    "# 함수의 사용은 함수의 호출을 통해서 진행\n",
    "# 호출 : 함수명( [인자값, ..] )\n",
    "# call by value : 호출하고 결과를 받는다 \n",
    "result = sum( 1, 2 )\n",
    "result"
   ]
  },
  {
   "cell_type": "code",
   "execution_count": 2,
   "metadata": {},
   "outputs": [],
   "source": [
    "def sum2 ( x, y ) :\n",
    "    print ( x + y )"
   ]
  },
  {
   "cell_type": "markdown",
   "metadata": {},
   "source": [
    "# 질문 : '왜 None인지?'"
   ]
  },
  {
   "cell_type": "code",
   "execution_count": 3,
   "metadata": {},
   "outputs": [
    {
     "name": "stdout",
     "output_type": "stream",
     "text": [
      "3\n",
      "None\n"
     ]
    }
   ],
   "source": [
    "result = sum2(1, 2) \n",
    "print( result )"
   ]
  },
  {
   "cell_type": "code",
   "execution_count": 5,
   "metadata": {},
   "outputs": [],
   "source": [
    "# 함수의 호출의 결과가 None이면 내부에서 return 표현을 생략했다 \n",
    "# 즉 반환작업을 하지 않는다 \n",
    "a = [3,5,2.5,1]\n",
    "a.sort()"
   ]
  },
  {
   "cell_type": "markdown",
   "metadata": {},
   "source": [
    "#### 1-2. 가변 (arguments, params, parameter)"
   ]
  },
  {
   "cell_type": "code",
   "execution_count": 13,
   "metadata": {},
   "outputs": [],
   "source": [
    "# *a : 포인터 a  라고 부름 \n",
    "def sum3( *a ) :\n",
    "    # a : tuple로 가변인자가 들어온다 \n",
    "    # print( type(a) )\n",
    "    # 누적함을 리턴하시오. 인자를 모두 더해서 리턴\n",
    "    result = 0 \n",
    "    for n in a :\n",
    "        # result += n\n",
    "        result = result + n\n",
    "    #반환\n",
    "    return result\n",
    "\n",
    "def sum3(*a) :\n",
    "    result = 0\n",
    "    for n in a :\n",
    "        result = result + n\n",
    "    return result "
   ]
  },
  {
   "cell_type": "code",
   "execution_count": 14,
   "metadata": {},
   "outputs": [
    {
     "data": {
      "text/plain": [
       "3"
      ]
     },
     "execution_count": 14,
     "metadata": {},
     "output_type": "execute_result"
    }
   ],
   "source": [
    "sum3 (1,2) "
   ]
  },
  {
   "cell_type": "code",
   "execution_count": 15,
   "metadata": {},
   "outputs": [
    {
     "data": {
      "text/plain": [
       "6"
      ]
     },
     "execution_count": 15,
     "metadata": {},
     "output_type": "execute_result"
    }
   ],
   "source": [
    "sum3 (1,2,3)"
   ]
  },
  {
   "cell_type": "code",
   "execution_count": 16,
   "metadata": {},
   "outputs": [
    {
     "data": {
      "text/plain": [
       "10"
      ]
     },
     "execution_count": 16,
     "metadata": {},
     "output_type": "execute_result"
    }
   ],
   "source": [
    "sum3 (1,2,3,4)"
   ]
  },
  {
   "cell_type": "code",
   "execution_count": 17,
   "metadata": {},
   "outputs": [
    {
     "name": "stdout",
     "output_type": "stream",
     "text": [
      "3\n",
      "6\n",
      "10\n"
     ]
    }
   ],
   "source": [
    "print (sum3 (1,2))\n",
    "print (sum3 (1,2,3))\n",
    "print (sum3 (1,2,3,4))"
   ]
  },
  {
   "cell_type": "markdown",
   "metadata": {},
   "source": [
    "#### 1-3. 리턴 값이 여러 개 "
   ]
  },
  {
   "cell_type": "code",
   "execution_count": 23,
   "metadata": {},
   "outputs": [],
   "source": [
    "# in [ ] : # 누적함, 누적곱 리턴 <= 리턴 값이 여러 개\n",
    "def sum4( *a ) :\n",
    "    result = 0\n",
    "    tmp = 1 \n",
    "    for n in a :\n",
    "        result = result + n\n",
    "        tmp *= n\n",
    "        # 리턴 값이 여러 개면 나열(열거)하면 된다 \n",
    "    return result,tmp"
   ]
  },
  {
   "cell_type": "code",
   "execution_count": 24,
   "metadata": {},
   "outputs": [
    {
     "data": {
      "text/plain": [
       "(6, 6)"
      ]
     },
     "execution_count": 24,
     "metadata": {},
     "output_type": "execute_result"
    }
   ],
   "source": [
    "sum4(1,2,3)"
   ]
  },
  {
   "cell_type": "code",
   "execution_count": 131,
   "metadata": {},
   "outputs": [],
   "source": [
    "# 듀플로 리턴되고, n개의 변수로 각각 받을 수 있다\n",
    "a,b = sum4(1,2,3,4)"
   ]
  },
  {
   "cell_type": "markdown",
   "metadata": {},
   "source": [
    "#### 1-4 함수 인자 초기값 부여\n",
    "\n",
    "- 함수의 인자를 일일이 다 채우지 않아도 사용 가능\n",
    "- 기본값(초기값)을 부여하여 함수의 사용에 유연성, 인자의 명확성 등을 부여할 수 있다."
   ]
  },
  {
   "cell_type": "code",
   "execution_count": 8,
   "metadata": {},
   "outputs": [],
   "source": [
    "def setHuman( name, age=50, weight=100 ) :\n",
    "    print( 'name=%s age=%s weight=%s' % (name, age, weight) )"
   ]
  },
  {
   "cell_type": "code",
   "execution_count": 9,
   "metadata": {},
   "outputs": [
    {
     "name": "stdout",
     "output_type": "stream",
     "text": [
      "name=부산대 age=50 weight=100\n"
     ]
    }
   ],
   "source": [
    "# 기본값이 없는 인자는 반드시 데이터를 전달해야한다 \n",
    "setHuman ( '부산대' )"
   ]
  },
  {
   "cell_type": "code",
   "execution_count": 13,
   "metadata": {},
   "outputs": [
    {
     "name": "stdout",
     "output_type": "stream",
     "text": [
      "name=부산대 age=30 weight=100\n"
     ]
    }
   ],
   "source": [
    "# 기본값이 있는 부분도 수정하고 싶다면?\n",
    "setHuman ( '부산대',30 )"
   ]
  },
  {
   "cell_type": "code",
   "execution_count": 30,
   "metadata": {},
   "outputs": [
    {
     "name": "stdout",
     "output_type": "stream",
     "text": [
      "name=부산대 age=50 w=60\n"
     ]
    }
   ],
   "source": [
    "# 첫번째 인자와 세번째 인자를 부여하고 싶다\n",
    "# 변경하고 싶은 인자를 직접 지정해서 부여\n",
    "setHuman ( '부산대', weight=60 )"
   ]
  },
  {
   "cell_type": "code",
   "execution_count": 31,
   "metadata": {},
   "outputs": [
    {
     "name": "stdout",
     "output_type": "stream",
     "text": [
      "name=부산대1 age=50 w=60\n"
     ]
    }
   ],
   "source": [
    "setHuman ( name='부산대1', weight=60 )"
   ]
  },
  {
   "cell_type": "code",
   "execution_count": 32,
   "metadata": {},
   "outputs": [
    {
     "name": "stdout",
     "output_type": "stream",
     "text": [
      "name=부산대1 age=50 w=60\n"
     ]
    }
   ],
   "source": [
    "setHuman ( weight=60, name='부산대1' )"
   ]
  },
  {
   "cell_type": "code",
   "execution_count": 17,
   "metadata": {},
   "outputs": [
    {
     "ename": "SyntaxError",
     "evalue": "non-default argument follows default argument (<ipython-input-17-7fbbe1d61dc2>, line 2)",
     "output_type": "error",
     "traceback": [
      "\u001b[1;36m  File \u001b[1;32m\"<ipython-input-17-7fbbe1d61dc2>\"\u001b[1;36m, line \u001b[1;32m2\u001b[0m\n\u001b[1;33m    def setHuman2( age=50, weight=100, name ) :\u001b[0m\n\u001b[1;37m                  ^\u001b[0m\n\u001b[1;31mSyntaxError\u001b[0m\u001b[1;31m:\u001b[0m non-default argument follows default argument\n"
     ]
    }
   ],
   "source": [
    "# 초기 값이 있는 변수를 앞에 두고, 초기값 없는 매개변수를 뒤로 배치 \n",
    "def setHuman2( age=50, weight=100, name ) :\n",
    "    print( 'name=%s age=%s w=%s' % (name, age, weight) )"
   ]
  },
  {
   "cell_type": "code",
   "execution_count": 18,
   "metadata": {},
   "outputs": [],
   "source": [
    "def setHuman3( age=50, weight=100, name =None) :\n",
    "    print( 'name=%s age=%s w=%s' % (name, age, weight) )"
   ]
  },
  {
   "cell_type": "code",
   "execution_count": 19,
   "metadata": {},
   "outputs": [
    {
     "name": "stdout",
     "output_type": "stream",
     "text": [
      "name=None age=50 w=100\n"
     ]
    }
   ],
   "source": [
    "setHuman3()"
   ]
  },
  {
   "cell_type": "markdown",
   "metadata": {},
   "source": [
    "### 2. 내장함수\n",
    "\n",
    "- 함수를 사용하는 데에 별다른 제약이 없다\n",
    "- 그냥 사용 ( 어떤 것이 있는지 아는 정도면 된다 ) \n",
    "    - type(), len(), int(), str(), list(), dict()\n",
    "    - tuple(), print(), set(), enumerate()"
   ]
  },
  {
   "cell_type": "markdown",
   "metadata": {},
   "source": [
    "#### 2-1. 파일 \n",
    "\n",
    "- 파일, 네트워크, 데이터베이스 등등 => 1/0 작업\n",
    "    - 프로그램 밖에 있는 리소스와 연동할 때\n",
    "- 예외 상황이 발생할 수 있다\n",
    "- 반드시 작업이 끝나면 닫아야 한다 "
   ]
  },
  {
   "cell_type": "code",
   "execution_count": 38,
   "metadata": {},
   "outputs": [],
   "source": [
    "# 파일이 없는데 내용을 쓰려고 하면, 파일을 만든다\n",
    "# 어떤 언어에서나 동일하다 \n",
    "# w : 쓰기. r : 읽기\n",
    "# b : 바이너리(이미지, 영상, 사운드, 문서파일(hwp...))\n",
    "# 1. 파일 오픈 (쓰기모드)\n",
    "f = open( 'test1.txt', 'w' )\n",
    "# 2. 파일에 기록\n",
    "f.write('가나다abcABC123!@#')\n",
    "# 3. 파일 닫기 \n",
    "f.close()"
   ]
  },
  {
   "cell_type": "code",
   "execution_count": 41,
   "metadata": {},
   "outputs": [
    {
     "name": "stdout",
     "output_type": "stream",
     "text": [
      "가나다abcABC123!@#\n"
     ]
    }
   ],
   "source": [
    "f = open('test1.txt','r')\n",
    "print(f.read() )\n",
    "f. close()"
   ]
  },
  {
   "cell_type": "code",
   "execution_count": 42,
   "metadata": {},
   "outputs": [
    {
     "name": "stdout",
     "output_type": "stream",
     "text": [
      "가나다abcABC123!@#\n"
     ]
    }
   ],
   "source": [
    "# 모든 I/O에서 자동으로 닫게 처리해 주는 코드\n",
    "# with문~\n",
    "# 원본(함수, 모듈...) as 별칭 \n",
    "\n",
    "with open('test1.txt','r') as f :\n",
    "    print( f.read() )\n",
    "    \n",
    "# with문이 끝나면 자동으로 close() 처리됨 \n",
    "# f. close()"
   ]
  },
  {
   "cell_type": "markdown",
   "metadata": {},
   "source": [
    "#### 2-2. 데이터 처리\n",
    "\n",
    "- map ()\n",
    "- filter ()"
   ]
  },
  {
   "cell_type": "code",
   "execution_count": 22,
   "metadata": {},
   "outputs": [
    {
     "data": {
      "text/plain": [
       "[1, 2, 3, 4, 5, 6, 7, 8, 9]"
      ]
     },
     "execution_count": 22,
     "metadata": {},
     "output_type": "execute_result"
    }
   ],
   "source": [
    "data = [ 1,2,3,4,5,6,7,8,9 ]\n",
    "data"
   ]
  },
  {
   "cell_type": "code",
   "execution_count": 23,
   "metadata": {},
   "outputs": [],
   "source": [
    "# data의 구성요소를 각각의 값을 2배로 증가시켜라"
   ]
  },
  {
   "cell_type": "code",
   "execution_count": 24,
   "metadata": {},
   "outputs": [
    {
     "data": {
      "text/plain": [
       "[1, 2, 3, 4, 5, 6, 7, 8, 9, 1, 2, 3, 4, 5, 6, 7, 8, 9]"
      ]
     },
     "execution_count": 24,
     "metadata": {},
     "output_type": "execute_result"
    }
   ],
   "source": [
    "# 이것은 의도한 바가 아니다\n",
    "data * 2"
   ]
  },
  {
   "cell_type": "code",
   "execution_count": 25,
   "metadata": {},
   "outputs": [
    {
     "data": {
      "text/plain": [
       "[2, 4, 6, 8, 10, 12, 14, 16, 18]"
      ]
     },
     "execution_count": 25,
     "metadata": {},
     "output_type": "execute_result"
    }
   ],
   "source": [
    "# 구성을 하나씩 빼서 2배 해서 다시 넣는다 \n",
    "\n",
    "def myDouble(x) :\n",
    "    return x*2\n",
    "list ( map (myDouble, data) )"
   ]
  },
  {
   "cell_type": "code",
   "execution_count": 27,
   "metadata": {},
   "outputs": [
    {
     "data": {
      "text/plain": [
       "[3, 6, 9, 12, 15, 18, 21, 24, 27]"
      ]
     },
     "execution_count": 27,
     "metadata": {},
     "output_type": "execute_result"
    }
   ],
   "source": [
    "# 람다함수, 함수 내에서 1회성으로 사용\n",
    "# 속도 면에서는 가장 빠르다 \n",
    "# 해당 라인의 코드가 종료되면 메모리 해제(휘발성)\n",
    "# 단, 수행문이 한 줄일 경우만 가능 \n",
    "list ( map ( lambda x : x*3 , data ) )"
   ]
  },
  {
   "cell_type": "code",
   "execution_count": 29,
   "metadata": {},
   "outputs": [
    {
     "data": {
      "text/plain": [
       "[6, 7, 8, 9]"
      ]
     },
     "execution_count": 29,
     "metadata": {},
     "output_type": "execute_result"
    }
   ],
   "source": [
    "def myDouble(x):\n",
    "    return x > 5 \n",
    "# 걸러낸다\n",
    "list ( filter ( myDouble, data) ) "
   ]
  },
  {
   "cell_type": "code",
   "execution_count": 30,
   "metadata": {},
   "outputs": [
    {
     "data": {
      "text/plain": [
       "[6, 7, 8, 9]"
      ]
     },
     "execution_count": 30,
     "metadata": {},
     "output_type": "execute_result"
    }
   ],
   "source": [
    "list ( filter( lambda x:x>5 , data) ) "
   ]
  },
  {
   "cell_type": "markdown",
   "metadata": {},
   "source": [
    "#### 2-3. 기타 주요 "
   ]
  },
  {
   "cell_type": "markdown",
   "metadata": {},
   "source": [
    "### 3. 외장함수\n",
    "\n",
    "- 모듈을 가져오고, 모듈을 통해서 함수를 사용하는 형태\n",
    "- ex) \n",
    "    - time, random\n",
    "    - pickle , os..."
   ]
  },
  {
   "cell_type": "code",
   "execution_count": 4,
   "metadata": {},
   "outputs": [
    {
     "data": {
      "text/plain": [
       "<module 'pickle' from 'C:\\\\Users\\\\admin\\\\Anaconda3\\\\lib\\\\pickle.py'>"
      ]
     },
     "execution_count": 4,
     "metadata": {},
     "output_type": "execute_result"
    }
   ],
   "source": [
    "# pickle : 자료구조를 그대로 저장, 로드 \n",
    "import pickle as p\n",
    "p"
   ]
  },
  {
   "cell_type": "code",
   "execution_count": 5,
   "metadata": {},
   "outputs": [
    {
     "ename": "NameError",
     "evalue": "name 'pickle' is not defined",
     "output_type": "error",
     "traceback": [
      "\u001b[1;31m---------------------------------------------------------------------------\u001b[0m",
      "\u001b[1;31mNameError\u001b[0m                                 Traceback (most recent call last)",
      "\u001b[1;32m<ipython-input-5-ab53f485a1e2>\u001b[0m in \u001b[0;36m<module>\u001b[1;34m\u001b[0m\n\u001b[0;32m      1\u001b[0m \u001b[1;31m# 여기서부터는 모르는 모듈이다 -> 이름이 p로 바뀌었다\u001b[0m\u001b[1;33m\u001b[0m\u001b[1;33m\u001b[0m\u001b[1;33m\u001b[0m\u001b[0m\n\u001b[1;32m----> 2\u001b[1;33m \u001b[0mpickle\u001b[0m\u001b[1;33m\u001b[0m\u001b[1;33m\u001b[0m\u001b[0m\n\u001b[0m",
      "\u001b[1;31mNameError\u001b[0m: name 'pickle' is not defined"
     ]
    }
   ],
   "source": [
    "# 여기서부터는 모르는 모듈이다 -> 이름이 p로 바뀌었다 \n",
    "pickle"
   ]
  },
  {
   "cell_type": "code",
   "execution_count": 6,
   "metadata": {},
   "outputs": [],
   "source": [
    "# 더미 데이터 \n",
    "data = {\n",
    "    1 : [1,2,3,4], \n",
    "    2 : {'name':'부산대'},\n",
    "    3 : (5,6,7,8)\n",
    "}"
   ]
  },
  {
   "cell_type": "markdown",
   "metadata": {},
   "source": [
    "# 질문 "
   ]
  },
  {
   "cell_type": "code",
   "execution_count": 8,
   "metadata": {},
   "outputs": [],
   "source": [
    "# 기록\n",
    "# 바이너리 쓰기 모드로 파일 오픈 \n",
    "with open('data.p', 'wb') as f :\n",
    "    # 덤프 => 파일에 데이터를 기록한다 \n",
    "    p.dump( data, f, p.HIGHEST_PROTOCOL )"
   ]
  },
  {
   "cell_type": "code",
   "execution_count": 108,
   "metadata": {},
   "outputs": [
    {
     "name": "stdout",
     "output_type": "stream",
     "text": [
      "{1: [1, 2, 3, 4], 2: {'name': '부산대'}, 3: (5, 6, 7, 8)}\n"
     ]
    }
   ],
   "source": [
    "# 로드\n",
    "# 바이너리 읽기 모드로 파일 오픈\n",
    "with open('data.p', 'rb') as f : \n",
    "    print(p.load(f))"
   ]
  },
  {
   "cell_type": "markdown",
   "metadata": {},
   "source": [
    "# 체킹"
   ]
  },
  {
   "cell_type": "code",
   "execution_count": 10,
   "metadata": {},
   "outputs": [],
   "source": [
    "import os "
   ]
  },
  {
   "cell_type": "code",
   "execution_count": 11,
   "metadata": {},
   "outputs": [
    {
     "data": {
      "text/plain": [
       "(False, True)"
      ]
     },
     "execution_count": 11,
     "metadata": {},
     "output_type": "execute_result"
    }
   ],
   "source": [
    "# a라는 파일이 존재하는가?\n",
    "os.path.exists('a.txt'),os.path.exists('data.p')"
   ]
  },
  {
   "cell_type": "code",
   "execution_count": 12,
   "metadata": {},
   "outputs": [
    {
     "data": {
      "text/plain": [
       "'C:\\\\Users\\\\admin\\\\Desktop\\\\python_basic\\\\basic'"
      ]
     },
     "execution_count": 12,
     "metadata": {},
     "output_type": "execute_result"
    }
   ],
   "source": [
    "os.getcwd()"
   ]
  },
  {
   "cell_type": "code",
   "execution_count": 13,
   "metadata": {},
   "outputs": [],
   "source": [
    "# 폴더 만들기 \n",
    "if os.path.exists('/dumi'):\n",
    "    os.mkdir('dumi')\n",
    "os.mkdir('dumi')\n",
    "\n",
    "if os.path.exists('/dumi'):\n",
    "    os.mkdir('dumi2')\n",
    "os.mkdir('dumi2')"
   ]
  },
  {
   "cell_type": "code",
   "execution_count": 32,
   "metadata": {},
   "outputs": [
    {
     "ename": "NameError",
     "evalue": "name 'os' is not defined",
     "output_type": "error",
     "traceback": [
      "\u001b[1;31m---------------------------------------------------------------------------\u001b[0m",
      "\u001b[1;31mNameError\u001b[0m                                 Traceback (most recent call last)",
      "\u001b[1;32m<ipython-input-32-a275486ae302>\u001b[0m in \u001b[0;36m<module>\u001b[1;34m\u001b[0m\n\u001b[1;32m----> 1\u001b[1;33m \u001b[0mos\u001b[0m\u001b[1;33m.\u001b[0m\u001b[0mchdir\u001b[0m\u001b[1;33m(\u001b[0m\u001b[1;34m'dumi2'\u001b[0m\u001b[1;33m)\u001b[0m\u001b[1;33m\u001b[0m\u001b[1;33m\u001b[0m\u001b[0m\n\u001b[0m",
      "\u001b[1;31mNameError\u001b[0m: name 'os' is not defined"
     ]
    }
   ],
   "source": [
    "os.chdir('dumi2')"
   ]
  },
  {
   "cell_type": "code",
   "execution_count": 116,
   "metadata": {},
   "outputs": [
    {
     "ename": "IndentationError",
     "evalue": "expected an indented block (<ipython-input-116-af331d993abe>, line 2)",
     "output_type": "error",
     "traceback": [
      "\u001b[1;36m  File \u001b[1;32m\"<ipython-input-116-af331d993abe>\"\u001b[1;36m, line \u001b[1;32m2\u001b[0m\n\u001b[1;33m    os.mkdir('dumi2')\u001b[0m\n\u001b[1;37m     ^\u001b[0m\n\u001b[1;31mIndentationError\u001b[0m\u001b[1;31m:\u001b[0m expected an indented block\n"
     ]
    }
   ],
   "source": [
    "if not os.path.exists('/dumi'):\n",
    "os.mkdir('dumi2')"
   ]
  },
  {
   "cell_type": "code",
   "execution_count": 117,
   "metadata": {},
   "outputs": [],
   "source": [
    "# 현재 위치에서 하나 위로 이동 \n",
    "os.chdir('..')"
   ]
  },
  {
   "cell_type": "code",
   "execution_count": 118,
   "metadata": {},
   "outputs": [
    {
     "data": {
      "text/plain": [
       "['.gitignore',\n",
       " '.ipynb_checkpoints',\n",
       " 'basic',\n",
       " 'data.p',\n",
       " 'dumi',\n",
       " 'dumi2',\n",
       " 'p6_함수.ipynb',\n",
       " 'README.md',\n",
       " 'readme.txt']"
      ]
     },
     "execution_count": 118,
     "metadata": {},
     "output_type": "execute_result"
    }
   ],
   "source": [
    "# 현재 위치의 파일리스트\n",
    "os.listdir( os.getcwd() )"
   ]
  },
  {
   "cell_type": "markdown",
   "metadata": {},
   "source": [
    "# 체킹"
   ]
  },
  {
   "cell_type": "code",
   "execution_count": 15,
   "metadata": {},
   "outputs": [],
   "source": [
    "from glob import glob"
   ]
  },
  {
   "cell_type": "code",
   "execution_count": 124,
   "metadata": {},
   "outputs": [
    {
     "data": {
      "text/plain": [
       "[]"
      ]
     },
     "execution_count": 124,
     "metadata": {},
     "output_type": "execute_result"
    }
   ],
   "source": [
    "# 특정 경로에 특정 패턴으로 된 대상만 수집 \n",
    "glob( os.getcwd() + '/P1*.ipynb' )"
   ]
  },
  {
   "cell_type": "markdown",
   "metadata": {},
   "source": [
    "### 4. 람다함수\n",
    "\n",
    "- 내장함수 map(), filter()에서 살펴봤다\n",
    "- 람다함수, 함수 내에서 1회성으로 사용\n",
    "- 속도 면에서는 가장 빠르다 \n",
    "- 해당 라인의 코드가 종료되면 메모리 해제(휘발성)\n",
    "- 단, 수행문이 한 줄일 경우만 가능 "
   ]
  },
  {
   "cell_type": "markdown",
   "metadata": {},
   "source": [
    "### 5. 클로저\n",
    "\n",
    "- 함수 안에 함수 있다\n",
    "- 함수 안에서 사용 \n",
    "- 흔하지는 않다 "
   ]
  },
  {
   "cell_type": "code",
   "execution_count": 127,
   "metadata": {},
   "outputs": [
    {
     "name": "stdout",
     "output_type": "stream",
     "text": [
      "1\n",
      "2\n",
      "3\n"
     ]
    }
   ],
   "source": [
    "def a() :\n",
    "    print(1)\n",
    "    def b() :\n",
    "        print(2)\n",
    "    b()\n",
    "    print(3)\n",
    "a()"
   ]
  },
  {
   "cell_type": "code",
   "execution_count": null,
   "metadata": {},
   "outputs": [],
   "source": []
  },
  {
   "cell_type": "code",
   "execution_count": null,
   "metadata": {},
   "outputs": [],
   "source": []
  },
  {
   "cell_type": "code",
   "execution_count": null,
   "metadata": {},
   "outputs": [],
   "source": []
  },
  {
   "cell_type": "code",
   "execution_count": null,
   "metadata": {},
   "outputs": [],
   "source": []
  },
  {
   "cell_type": "code",
   "execution_count": null,
   "metadata": {},
   "outputs": [],
   "source": []
  },
  {
   "cell_type": "code",
   "execution_count": null,
   "metadata": {},
   "outputs": [],
   "source": []
  },
  {
   "cell_type": "code",
   "execution_count": null,
   "metadata": {},
   "outputs": [],
   "source": []
  },
  {
   "cell_type": "code",
   "execution_count": null,
   "metadata": {},
   "outputs": [],
   "source": []
  },
  {
   "cell_type": "code",
   "execution_count": null,
   "metadata": {},
   "outputs": [],
   "source": []
  },
  {
   "cell_type": "code",
   "execution_count": null,
   "metadata": {},
   "outputs": [],
   "source": []
  },
  {
   "cell_type": "markdown",
   "metadata": {},
   "source": [
    "### 6. 객체지향프로그램 => 함수지향프로그램 전환 "
   ]
  },
  {
   "cell_type": "code",
   "execution_count": null,
   "metadata": {},
   "outputs": [],
   "source": []
  },
  {
   "cell_type": "code",
   "execution_count": null,
   "metadata": {},
   "outputs": [],
   "source": []
  },
  {
   "cell_type": "code",
   "execution_count": null,
   "metadata": {},
   "outputs": [],
   "source": []
  },
  {
   "cell_type": "code",
   "execution_count": null,
   "metadata": {},
   "outputs": [],
   "source": []
  },
  {
   "cell_type": "code",
   "execution_count": null,
   "metadata": {},
   "outputs": [],
   "source": []
  },
  {
   "cell_type": "code",
   "execution_count": null,
   "metadata": {},
   "outputs": [],
   "source": []
  },
  {
   "cell_type": "code",
   "execution_count": null,
   "metadata": {},
   "outputs": [],
   "source": []
  },
  {
   "cell_type": "code",
   "execution_count": null,
   "metadata": {},
   "outputs": [],
   "source": []
  },
  {
   "cell_type": "code",
   "execution_count": null,
   "metadata": {},
   "outputs": [],
   "source": []
  },
  {
   "cell_type": "code",
   "execution_count": null,
   "metadata": {},
   "outputs": [],
   "source": []
  },
  {
   "cell_type": "code",
   "execution_count": null,
   "metadata": {},
   "outputs": [],
   "source": []
  },
  {
   "cell_type": "code",
   "execution_count": null,
   "metadata": {},
   "outputs": [],
   "source": []
  },
  {
   "cell_type": "code",
   "execution_count": null,
   "metadata": {},
   "outputs": [],
   "source": []
  },
  {
   "cell_type": "code",
   "execution_count": null,
   "metadata": {},
   "outputs": [],
   "source": []
  },
  {
   "cell_type": "code",
   "execution_count": null,
   "metadata": {},
   "outputs": [],
   "source": []
  },
  {
   "cell_type": "code",
   "execution_count": null,
   "metadata": {},
   "outputs": [],
   "source": []
  },
  {
   "cell_type": "code",
   "execution_count": null,
   "metadata": {},
   "outputs": [],
   "source": []
  },
  {
   "cell_type": "code",
   "execution_count": null,
   "metadata": {},
   "outputs": [],
   "source": []
  },
  {
   "cell_type": "code",
   "execution_count": null,
   "metadata": {},
   "outputs": [],
   "source": []
  },
  {
   "cell_type": "code",
   "execution_count": null,
   "metadata": {},
   "outputs": [],
   "source": []
  },
  {
   "cell_type": "code",
   "execution_count": null,
   "metadata": {},
   "outputs": [],
   "source": []
  },
  {
   "cell_type": "code",
   "execution_count": null,
   "metadata": {},
   "outputs": [],
   "source": []
  }
 ],
 "metadata": {
  "kernelspec": {
   "display_name": "Python 3",
   "language": "python",
   "name": "python3"
  },
  "language_info": {
   "codemirror_mode": {
    "name": "ipython",
    "version": 3
   },
   "file_extension": ".py",
   "mimetype": "text/x-python",
   "name": "python",
   "nbconvert_exporter": "python",
   "pygments_lexer": "ipython3",
   "version": "3.7.4"
  }
 },
 "nbformat": 4,
 "nbformat_minor": 2
}
