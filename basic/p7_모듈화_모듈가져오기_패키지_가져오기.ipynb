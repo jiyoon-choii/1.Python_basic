{
 "cells": [
  {
   "cell_type": "markdown",
   "metadata": {},
   "source": [
    "### 패키지, 모듈 \n",
    "\n",
    "- 파이썬에서 만들 수 있는 형태는 오직 2개이다\n",
    "    - 모듈 : *.py\n",
    "    - 패키지 : 특정 기능을 가진 모듈들을 모아둔 디렉토리\n",
    "- 실습 구조\n",
    "    - 현재 위치\n",
    "        ㄴ Mymath\n",
    "            ㄴ __init__py\n",
    "            ㄴ metrix\n",
    "                ㄴ __init__py\n",
    "                ㄴ mod_.py\n",
    "    - ㄴ P7. 모듈화_모듈가져오기_패키지_예외처리.ipynb ( 시작점 .entrypoint. 여기서부터 경로를 체크한다 ) \n",
    "                 "
   ]
  },
  {
   "cell_type": "markdown",
   "metadata": {},
   "source": [
    "### 모듈 가져오기 & 사용하기 "
   ]
  },
  {
   "cell_type": "markdown",
   "metadata": {},
   "source": [
    "- case\n",
    "    - 내가 작성하는 모듈에 남이 만든 모듈을 가져다가 사용하는 절차 \n",
    "        - 1. 가져온다\n",
    "        - 2. 사용한다        \n",
    "    - From 패키지명.패키지명 .... 모듈명 import 변수, 함수, 클래스 ....\n",
    "    - From 패키지명.패키지명 .... 모듈명 import *\n",
    "    - From 패키지명.패키지명 .... 모듈명 import 변수 as 별칭  \n",
    "    <br>\n",
    "    - From 패키지명.패키지명 .... 패키지명 import 이하동문  \n",
    "    <br>  \n",
    "    - from 모듈명 import 이하동문  \n",
    "    <br>\n",
    "    - import 패키지명.패키지명 .... 모듈명 as 별칭\n",
    "    - import 패키지명.패키지명 .... 모듈명 as 별칭   \n",
    "    - import 모듈명 "
   ]
  },
  {
   "cell_type": "code",
   "execution_count": 2,
   "metadata": {},
   "outputs": [],
   "source": [
    "# 모듈 가져오기 \n",
    "from MyMath.metrix.mod import add, name\n"
   ]
  },
  {
   "cell_type": "code",
   "execution_count": 3,
   "metadata": {},
   "outputs": [
    {
     "data": {
      "text/plain": [
       "('17시30분', 3)"
      ]
     },
     "execution_count": 3,
     "metadata": {},
     "output_type": "execute_result"
    }
   ],
   "source": [
    "# from~ 사용하면, 사용한 코드를 보면 마치 내 코드처럼 사용된다 \n",
    "name, add(1,2)"
   ]
  },
  {
   "cell_type": "code",
   "execution_count": 2,
   "metadata": {},
   "outputs": [],
   "source": [
    "# 가져올 게 너무 많아서 일일이 다 기술 못 하고, 다 가져오는 경우 \n",
    "from MyMath.metrix.mod import *"
   ]
  },
  {
   "cell_type": "code",
   "execution_count": 3,
   "metadata": {},
   "outputs": [
    {
     "name": "stdout",
     "output_type": "stream",
     "text": [
      "생성\n"
     ]
    },
    {
     "data": {
      "text/plain": [
       "<MyMath.metrix.mod.A at 0x28f121b94c8>"
      ]
     },
     "execution_count": 3,
     "metadata": {},
     "output_type": "execute_result"
    }
   ],
   "source": [
    "A ( )"
   ]
  },
  {
   "cell_type": "code",
   "execution_count": 4,
   "metadata": {},
   "outputs": [
    {
     "ename": "NameError",
     "evalue": "name '생성' is not defined",
     "output_type": "error",
     "traceback": [
      "\u001b[1;31m---------------------------------------------------------------------------\u001b[0m",
      "\u001b[1;31mNameError\u001b[0m                                 Traceback (most recent call last)",
      "\u001b[1;32m<ipython-input-4-a392c12a3635>\u001b[0m in \u001b[0;36m<module>\u001b[1;34m\u001b[0m\n\u001b[1;32m----> 1\u001b[1;33m \u001b[0m생성\u001b[0m\u001b[1;33m\u001b[0m\u001b[1;33m\u001b[0m\u001b[0m\n\u001b[0m",
      "\u001b[1;31mNameError\u001b[0m: name '생성' is not defined"
     ]
    }
   ],
   "source": [
    "생성"
   ]
  },
  {
   "cell_type": "code",
   "execution_count": null,
   "metadata": {},
   "outputs": [],
   "source": [
    "# 가져온 요소들 중에 특정한 요소 (변, 함, 클) 의 이름을 별칭으로 대체 \n",
    "from MyMath.metrix.mod import PI as MPI"
   ]
  },
  {
   "cell_type": "code",
   "execution_count": null,
   "metadata": {},
   "outputs": [],
   "source": [
    "MPI"
   ]
  },
  {
   "cell_type": "code",
   "execution_count": null,
   "metadata": {},
   "outputs": [],
   "source": [
    "# 별칭을 부여하면 이전 이름을 사용 못한다\n",
    "# 여기서는 위에서 당겨서 그럴 수도 있다\n",
    "PI"
   ]
  },
  {
   "cell_type": "code",
   "execution_count": null,
   "metadata": {},
   "outputs": [],
   "source": [
    "# 경로를 패키지로만 지정하면 마지막 패키지에 대응하는 __init__PY\n",
    "# 에서 가져온다 \n",
    "\n",
    "from MyMath.metrix import PI2 \n",
    "PI2"
   ]
  },
  {
   "cell_type": "code",
   "execution_count": 5,
   "metadata": {},
   "outputs": [],
   "source": [
    "import MyMath"
   ]
  },
  {
   "cell_type": "code",
   "execution_count": 6,
   "metadata": {},
   "outputs": [
    {
     "data": {
      "text/plain": [
       "'부산대역'"
      ]
     },
     "execution_count": 6,
     "metadata": {},
     "output_type": "execute_result"
    }
   ],
   "source": [
    "MyMath.PI3"
   ]
  },
  {
   "cell_type": "code",
   "execution_count": null,
   "metadata": {},
   "outputs": [],
   "source": [
    "# 특정 모듈이 개발하면서 작성한 코드나, \n",
    "# 단독 구동 시 작동해야 하는 코드는 if__name__ ~ 와 같이 내부로 처리\n",
    "# 그 외의 것은 바깥에 두어도 된다(정의하는 부분들)\n",
    "# 왜냐하면 from~ 수행하면 해당 모듈이 메모리에 로드된다\n",
    "# 경우에 따라서는 코드가 실행될 수도 있으므로 주의 \n",
    "\n",
    "# test5.py 에서 확인 \n",
    "\n",
    "from game_nocomment2_func_ending import game_level\n",
    "game_level"
   ]
  },
  {
   "cell_type": "markdown",
   "metadata": {},
   "source": [
    "- import "
   ]
  },
  {
   "cell_type": "code",
   "execution_count": null,
   "metadata": {},
   "outputs": [],
   "source": [
    "import MyMath.metrix.mod as m"
   ]
  },
  {
   "cell_type": "code",
   "execution_count": null,
   "metadata": {},
   "outputs": [],
   "source": [
    "m.PI, m.add (1,2)"
   ]
  },
  {
   "cell_type": "code",
   "execution_count": 7,
   "metadata": {},
   "outputs": [
    {
     "data": {
      "text/plain": [
       "'부산대역'"
      ]
     },
     "execution_count": 7,
     "metadata": {},
     "output_type": "execute_result"
    }
   ],
   "source": [
    "import MyMath\n",
    "\n",
    "MyMath.PI3"
   ]
  },
  {
   "cell_type": "code",
   "execution_count": 13,
   "metadata": {},
   "outputs": [
    {
     "data": {
      "text/plain": [
       "{'A': 1,\n",
       " '2': 2,\n",
       " '3': 3,\n",
       " '4': 4,\n",
       " '5': 5,\n",
       " '6': 6,\n",
       " '7': 7,\n",
       " '8': 8,\n",
       " '9': 9,\n",
       " '10': 10,\n",
       " 'J': 11,\n",
       " 'Q': 12,\n",
       " 'K': -5}"
      ]
     },
     "execution_count": 13,
     "metadata": {},
     "output_type": "execute_result"
    }
   ],
   "source": [
    "import game_nocomment2_func_ending\n",
    "game_nocomment2_func_ending.score_table"
   ]
  },
  {
   "cell_type": "markdown",
   "metadata": {},
   "source": [
    "# 질문 : 에러"
   ]
  },
  {
   "cell_type": "code",
   "execution_count": 14,
   "metadata": {},
   "outputs": [
    {
     "ename": "NameError",
     "evalue": "name 'score_table' is not defined",
     "output_type": "error",
     "traceback": [
      "\u001b[1;31m---------------------------------------------------------------------------\u001b[0m",
      "\u001b[1;31mNameError\u001b[0m                                 Traceback (most recent call last)",
      "\u001b[1;32m<ipython-input-14-f429bdbb4144>\u001b[0m in \u001b[0;36m<module>\u001b[1;34m\u001b[0m\n\u001b[0;32m      1\u001b[0m \u001b[1;32mimport\u001b[0m \u001b[0mgame_nocomment2_func_ending\u001b[0m \u001b[1;32mas\u001b[0m \u001b[0mgame\u001b[0m\u001b[1;33m\u001b[0m\u001b[1;33m\u001b[0m\u001b[0m\n\u001b[1;32m----> 2\u001b[1;33m \u001b[0mprint\u001b[0m\u001b[1;33m(\u001b[0m \u001b[0mgame\u001b[0m\u001b[1;33m,\u001b[0m \u001b[0mscore_table\u001b[0m \u001b[1;33m)\u001b[0m\u001b[1;33m\u001b[0m\u001b[1;33m\u001b[0m\u001b[0m\n\u001b[0m",
      "\u001b[1;31mNameError\u001b[0m: name 'score_table' is not defined"
     ]
    }
   ],
   "source": [
    "import game_nocomment2_func_ending as game\n",
    "print( game, score_table )"
   ]
  },
  {
   "cell_type": "markdown",
   "metadata": {},
   "source": [
    "# 체킹 "
   ]
  },
  {
   "cell_type": "markdown",
   "metadata": {},
   "source": [
    "### 예외처리\n",
    "\n",
    "- 예외처리\n",
    "- 코드는 잠재적으로 오류를 가질 수 있다\n",
    "- 이때, s/w를 다운되지 않게하고, 혹은 그 정보를 수집하고,\n",
    "- 문제 없이 다음 단계로 진행시키게 하는 방법"
   ]
  },
  {
   "cell_type": "code",
   "execution_count": null,
   "metadata": {},
   "outputs": [],
   "source": [
    "# case1 예외 발생시 코드 진행 확인\n",
    "print(0)\n",
    "try : # 예외가 발생할 만한 코드를 감싼다\n",
    "    print(1)\n",
    "    print(1/0)\n",
    "    print(2)\n",
    "except Exception as e : # 예외가 발생하면 호출\n",
    "    print(3,e)\n",
    "else : # 예외없이 정상적으로 코드가 진행되면 호출\n",
    "    print(4)\n",
    "finally : # 무조건 수행 \n",
    "    print(5)\n",
    "print(6)"
   ]
  },
  {
   "cell_type": "code",
   "execution_count": null,
   "metadata": {},
   "outputs": [],
   "source": [
    "# case2 정상시 코드 진행 확인\n",
    "print(0)\n",
    "try : # 예외가 발생할 만한 코드를 감싼다\n",
    "    print(1)\n",
    "    # print(1/0)\n",
    "    print(2)\n",
    "except Exception as e : # 예외가 발생하면 호출\n",
    "    print(3,e)\n",
    "else : # 예외없이 정상적으로 코드가 진행되면 호출\n",
    "    print(4)\n",
    "finally : # 무조건 수행 \n",
    "    print(5)\n",
    "print(6)"
   ]
  },
  {
   "cell_type": "code",
   "execution_count": null,
   "metadata": {},
   "outputs": [],
   "source": []
  },
  {
   "cell_type": "code",
   "execution_count": null,
   "metadata": {},
   "outputs": [],
   "source": []
  },
  {
   "cell_type": "code",
   "execution_count": null,
   "metadata": {},
   "outputs": [],
   "source": []
  },
  {
   "cell_type": "code",
   "execution_count": null,
   "metadata": {},
   "outputs": [],
   "source": []
  },
  {
   "cell_type": "code",
   "execution_count": null,
   "metadata": {},
   "outputs": [],
   "source": []
  },
  {
   "cell_type": "code",
   "execution_count": null,
   "metadata": {},
   "outputs": [],
   "source": []
  },
  {
   "cell_type": "code",
   "execution_count": null,
   "metadata": {},
   "outputs": [],
   "source": []
  },
  {
   "cell_type": "code",
   "execution_count": null,
   "metadata": {},
   "outputs": [],
   "source": []
  },
  {
   "cell_type": "code",
   "execution_count": null,
   "metadata": {},
   "outputs": [],
   "source": []
  },
  {
   "cell_type": "code",
   "execution_count": null,
   "metadata": {},
   "outputs": [],
   "source": []
  },
  {
   "cell_type": "code",
   "execution_count": null,
   "metadata": {},
   "outputs": [],
   "source": []
  },
  {
   "cell_type": "code",
   "execution_count": null,
   "metadata": {},
   "outputs": [],
   "source": []
  },
  {
   "cell_type": "code",
   "execution_count": null,
   "metadata": {},
   "outputs": [],
   "source": []
  },
  {
   "cell_type": "code",
   "execution_count": null,
   "metadata": {},
   "outputs": [],
   "source": []
  },
  {
   "cell_type": "code",
   "execution_count": null,
   "metadata": {},
   "outputs": [],
   "source": []
  },
  {
   "cell_type": "code",
   "execution_count": null,
   "metadata": {},
   "outputs": [],
   "source": []
  },
  {
   "cell_type": "code",
   "execution_count": null,
   "metadata": {},
   "outputs": [],
   "source": []
  },
  {
   "cell_type": "code",
   "execution_count": null,
   "metadata": {},
   "outputs": [],
   "source": []
  },
  {
   "cell_type": "code",
   "execution_count": null,
   "metadata": {},
   "outputs": [],
   "source": []
  },
  {
   "cell_type": "code",
   "execution_count": null,
   "metadata": {},
   "outputs": [],
   "source": []
  },
  {
   "cell_type": "code",
   "execution_count": null,
   "metadata": {},
   "outputs": [],
   "source": []
  },
  {
   "cell_type": "code",
   "execution_count": null,
   "metadata": {},
   "outputs": [],
   "source": []
  },
  {
   "cell_type": "code",
   "execution_count": null,
   "metadata": {},
   "outputs": [],
   "source": []
  },
  {
   "cell_type": "markdown",
   "metadata": {},
   "source": []
  }
 ],
 "metadata": {
  "kernelspec": {
   "display_name": "Python 3",
   "language": "python",
   "name": "python3"
  },
  "language_info": {
   "codemirror_mode": {
    "name": "ipython",
    "version": 3
   },
   "file_extension": ".py",
   "mimetype": "text/x-python",
   "name": "python",
   "nbconvert_exporter": "python",
   "pygments_lexer": "ipython3",
   "version": "3.7.4"
  }
 },
 "nbformat": 4,
 "nbformat_minor": 2
}
